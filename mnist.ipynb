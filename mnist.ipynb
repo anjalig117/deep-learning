{
 "cells": [
  {
   "cell_type": "code",
   "execution_count": 1,
   "metadata": {},
   "outputs": [
    {
     "name": "stdout",
     "output_type": "stream",
     "text": [
      "Collecting fastbook\n",
      "  Downloading fastbook-0.0.29-py3-none-any.whl (719 kB)\n",
      "Requirement already satisfied: ipywidgets<8 in c:\\users\\anjali goel\\appdata\\local\\programs\\python\\python37\\lib\\site-packages (from fastbook) (7.6.3)\n",
      "Requirement already satisfied: packaging in c:\\users\\anjali goel\\appdata\\local\\programs\\python\\python37\\lib\\site-packages (from fastbook) (20.9)\n",
      "Collecting sentencepiece\n",
      "  Downloading sentencepiece-0.1.99-cp37-cp37m-win_amd64.whl (977 kB)\n",
      "Requirement already satisfied: requests in c:\\users\\anjali goel\\appdata\\local\\programs\\python\\python37\\lib\\site-packages (from fastbook) (2.25.1)\n",
      "Requirement already satisfied: pip in c:\\users\\anjali goel\\appdata\\local\\programs\\python\\python37\\lib\\site-packages (from fastbook) (21.1.1)\n",
      "Requirement already satisfied: pandas in c:\\users\\anjali goel\\appdata\\local\\programs\\python\\python37\\lib\\site-packages (from fastbook) (1.1.4)\n",
      "Collecting graphviz\n",
      "  Downloading graphviz-0.20.1-py3-none-any.whl (47 kB)\n",
      "Collecting fastai>=2.6\n",
      "  Downloading fastai-2.7.12-py3-none-any.whl (233 kB)\n",
      "Collecting transformers\n",
      "  Downloading transformers-4.30.2-py3-none-any.whl (7.2 MB)\n",
      "Collecting datasets\n",
      "  Downloading datasets-2.13.2-py3-none-any.whl (512 kB)\n",
      "Collecting fastprogress>=0.2.4\n",
      "  Downloading fastprogress-1.0.3-py3-none-any.whl (12 kB)\n",
      "Requirement already satisfied: scipy in c:\\users\\anjali goel\\appdata\\local\\programs\\python\\python37\\lib\\site-packages (from fastai>=2.6->fastbook) (1.6.3)\n",
      "Requirement already satisfied: pyyaml in c:\\users\\anjali goel\\appdata\\local\\programs\\python\\python37\\lib\\site-packages (from fastai>=2.6->fastbook) (5.4.1)\n",
      "Requirement already satisfied: spacy<4 in c:\\users\\anjali goel\\appdata\\local\\programs\\python\\python37\\lib\\site-packages (from fastai>=2.6->fastbook) (3.5.2)\n",
      "Requirement already satisfied: scikit-learn in c:\\users\\anjali goel\\appdata\\local\\programs\\python\\python37\\lib\\site-packages (from fastai>=2.6->fastbook) (0.24.1)\n",
      "Requirement already satisfied: torch<2.1,>=1.7 in c:\\users\\anjali goel\\appdata\\local\\programs\\python\\python37\\lib\\site-packages (from fastai>=2.6->fastbook) (1.11.0)\n",
      "Collecting fastdownload<2,>=0.0.5\n",
      "  Downloading fastdownload-0.0.7-py3-none-any.whl (12 kB)\n",
      "Requirement already satisfied: matplotlib in c:\\users\\anjali goel\\appdata\\local\\programs\\python\\python37\\lib\\site-packages (from fastai>=2.6->fastbook) (3.3.4)\n",
      "Requirement already satisfied: pillow>6.0.0 in c:\\users\\anjali goel\\appdata\\local\\programs\\python\\python37\\lib\\site-packages (from fastai>=2.6->fastbook) (9.5.0)\n",
      "Collecting fastcore<1.6,>=1.5.29\n",
      "  Downloading fastcore-1.5.29-py3-none-any.whl (67 kB)\n",
      "Requirement already satisfied: torchvision>=0.8.2 in c:\\users\\anjali goel\\appdata\\local\\programs\\python\\python37\\lib\\site-packages (from fastai>=2.6->fastbook) (0.12.0)\n",
      "Requirement already satisfied: nbformat>=4.2.0 in c:\\users\\anjali goel\\appdata\\local\\programs\\python\\python37\\lib\\site-packages (from ipywidgets<8->fastbook) (5.1.3)\n",
      "Requirement already satisfied: jupyterlab-widgets>=1.0.0 in c:\\users\\anjali goel\\appdata\\local\\programs\\python\\python37\\lib\\site-packages (from ipywidgets<8->fastbook) (1.0.0)\n",
      "Requirement already satisfied: ipython>=4.0.0 in c:\\users\\anjali goel\\appdata\\local\\programs\\python\\python37\\lib\\site-packages (from ipywidgets<8->fastbook) (7.23.1)\n",
      "Requirement already satisfied: traitlets>=4.3.1 in c:\\users\\anjali goel\\appdata\\local\\programs\\python\\python37\\lib\\site-packages (from ipywidgets<8->fastbook) (5.0.5)\n",
      "Requirement already satisfied: ipykernel>=4.5.1 in c:\\users\\anjali goel\\appdata\\local\\programs\\python\\python37\\lib\\site-packages (from ipywidgets<8->fastbook) (5.5.4)\n",
      "Requirement already satisfied: widgetsnbextension~=3.5.0 in c:\\users\\anjali goel\\appdata\\local\\programs\\python\\python37\\lib\\site-packages (from ipywidgets<8->fastbook) (3.5.1)\n",
      "Requirement already satisfied: jupyter-client in c:\\users\\anjali goel\\appdata\\local\\programs\\python\\python37\\lib\\site-packages (from ipykernel>=4.5.1->ipywidgets<8->fastbook) (6.1.12)\n",
      "Requirement already satisfied: tornado>=4.2 in c:\\users\\anjali goel\\appdata\\local\\programs\\python\\python37\\lib\\site-packages (from ipykernel>=4.5.1->ipywidgets<8->fastbook) (6.1)\n",
      "Requirement already satisfied: jedi>=0.16 in c:\\users\\anjali goel\\appdata\\local\\programs\\python\\python37\\lib\\site-packages (from ipython>=4.0.0->ipywidgets<8->fastbook) (0.18.0)\n",
      "Requirement already satisfied: backcall in c:\\users\\anjali goel\\appdata\\local\\programs\\python\\python37\\lib\\site-packages (from ipython>=4.0.0->ipywidgets<8->fastbook) (0.2.0)\n",
      "Requirement already satisfied: setuptools>=18.5 in c:\\users\\anjali goel\\appdata\\local\\programs\\python\\python37\\lib\\site-packages (from ipython>=4.0.0->ipywidgets<8->fastbook) (56.0.0)\n",
      "Requirement already satisfied: colorama in c:\\users\\anjali goel\\appdata\\local\\programs\\python\\python37\\lib\\site-packages (from ipython>=4.0.0->ipywidgets<8->fastbook) (0.4.6)\n",
      "Requirement already satisfied: pickleshare in c:\\users\\anjali goel\\appdata\\local\\programs\\python\\python37\\lib\\site-packages (from ipython>=4.0.0->ipywidgets<8->fastbook) (0.7.5)\n",
      "Requirement already satisfied: matplotlib-inline in c:\\users\\anjali goel\\appdata\\local\\programs\\python\\python37\\lib\\site-packages (from ipython>=4.0.0->ipywidgets<8->fastbook) (0.1.2)\n",
      "Requirement already satisfied: decorator in c:\\users\\anjali goel\\appdata\\local\\programs\\python\\python37\\lib\\site-packages (from ipython>=4.0.0->ipywidgets<8->fastbook) (4.4.2)\n",
      "Requirement already satisfied: prompt-toolkit!=3.0.0,!=3.0.1,<3.1.0,>=2.0.0 in c:\\users\\anjali goel\\appdata\\local\\programs\\python\\python37\\lib\\site-packages (from ipython>=4.0.0->ipywidgets<8->fastbook) (3.0.18)\n",
      "Requirement already satisfied: pygments in c:\\users\\anjali goel\\appdata\\local\\programs\\python\\python37\\lib\\site-packages (from ipython>=4.0.0->ipywidgets<8->fastbook) (2.9.0)\n",
      "Requirement already satisfied: parso<0.9.0,>=0.8.0 in c:\\users\\anjali goel\\appdata\\local\\programs\\python\\python37\\lib\\site-packages (from jedi>=0.16->ipython>=4.0.0->ipywidgets<8->fastbook) (0.8.2)\n",
      "Requirement already satisfied: ipython-genutils in c:\\users\\anjali goel\\appdata\\local\\programs\\python\\python37\\lib\\site-packages (from nbformat>=4.2.0->ipywidgets<8->fastbook) (0.2.0)\n",
      "Requirement already satisfied: jupyter-core in c:\\users\\anjali goel\\appdata\\local\\programs\\python\\python37\\lib\\site-packages (from nbformat>=4.2.0->ipywidgets<8->fastbook) (4.7.1)\n",
      "Requirement already satisfied: jsonschema!=2.5.0,>=2.4 in c:\\users\\anjali goel\\appdata\\local\\programs\\python\\python37\\lib\\site-packages (from nbformat>=4.2.0->ipywidgets<8->fastbook) (3.2.0)\n",
      "Requirement already satisfied: six>=1.11.0 in c:\\users\\anjali goel\\appdata\\local\\programs\\python\\python37\\lib\\site-packages (from jsonschema!=2.5.0,>=2.4->nbformat>=4.2.0->ipywidgets<8->fastbook) (1.15.0)\n",
      "Requirement already satisfied: pyrsistent>=0.14.0 in c:\\users\\anjali goel\\appdata\\local\\programs\\python\\python37\\lib\\site-packages (from jsonschema!=2.5.0,>=2.4->nbformat>=4.2.0->ipywidgets<8->fastbook) (0.17.3)\n",
      "Requirement already satisfied: attrs>=17.4.0 in c:\\users\\anjali goel\\appdata\\local\\programs\\python\\python37\\lib\\site-packages (from jsonschema!=2.5.0,>=2.4->nbformat>=4.2.0->ipywidgets<8->fastbook) (19.3.0)\n",
      "Requirement already satisfied: importlib-metadata in c:\\users\\anjali goel\\appdata\\local\\programs\\python\\python37\\lib\\site-packages (from jsonschema!=2.5.0,>=2.4->nbformat>=4.2.0->ipywidgets<8->fastbook) (6.7.0)\n",
      "Requirement already satisfied: wcwidth in c:\\users\\anjali goel\\appdata\\local\\programs\\python\\python37\\lib\\site-packages (from prompt-toolkit!=3.0.0,!=3.0.1,<3.1.0,>=2.0.0->ipython>=4.0.0->ipywidgets<8->fastbook) (0.2.5)\n",
      "Requirement already satisfied: murmurhash<1.1.0,>=0.28.0 in c:\\users\\anjali goel\\appdata\\local\\programs\\python\\python37\\lib\\site-packages (from spacy<4->fastai>=2.6->fastbook) (1.0.9)\n",
      "Requirement already satisfied: langcodes<4.0.0,>=3.2.0 in c:\\users\\anjali goel\\appdata\\local\\programs\\python\\python37\\lib\\site-packages (from spacy<4->fastai>=2.6->fastbook) (3.3.0)\n",
      "Requirement already satisfied: preshed<3.1.0,>=3.0.2 in c:\\users\\anjali goel\\appdata\\local\\programs\\python\\python37\\lib\\site-packages (from spacy<4->fastai>=2.6->fastbook) (3.0.8)\n",
      "Requirement already satisfied: srsly<3.0.0,>=2.4.3 in c:\\users\\anjali goel\\appdata\\local\\programs\\python\\python37\\lib\\site-packages (from spacy<4->fastai>=2.6->fastbook) (2.4.6)\n",
      "Requirement already satisfied: thinc<8.2.0,>=8.1.8 in c:\\users\\anjali goel\\appdata\\local\\programs\\python\\python37\\lib\\site-packages (from spacy<4->fastai>=2.6->fastbook) (8.1.10)\n",
      "Requirement already satisfied: jinja2 in c:\\users\\anjali goel\\appdata\\local\\programs\\python\\python37\\lib\\site-packages (from spacy<4->fastai>=2.6->fastbook) (2.11.2)\n",
      "Requirement already satisfied: pydantic!=1.8,!=1.8.1,<1.11.0,>=1.7.4 in c:\\users\\anjali goel\\appdata\\local\\programs\\python\\python37\\lib\\site-packages (from spacy<4->fastai>=2.6->fastbook) (1.10.7)\n",
      "Requirement already satisfied: numpy>=1.15.0 in c:\\users\\anjali goel\\appdata\\local\\programs\\python\\python37\\lib\\site-packages (from spacy<4->fastai>=2.6->fastbook) (1.19.5)\n",
      "Requirement already satisfied: wasabi<1.2.0,>=0.9.1 in c:\\users\\anjali goel\\appdata\\local\\programs\\python\\python37\\lib\\site-packages (from spacy<4->fastai>=2.6->fastbook) (1.1.1)\n",
      "Requirement already satisfied: smart-open<7.0.0,>=5.2.1 in c:\\users\\anjali goel\\appdata\\local\\programs\\python\\python37\\lib\\site-packages (from spacy<4->fastai>=2.6->fastbook) (6.3.0)\n",
      "Requirement already satisfied: catalogue<2.1.0,>=2.0.6 in c:\\users\\anjali goel\\appdata\\local\\programs\\python\\python37\\lib\\site-packages (from spacy<4->fastai>=2.6->fastbook) (2.0.8)\n",
      "Requirement already satisfied: pathy>=0.10.0 in c:\\users\\anjali goel\\appdata\\local\\programs\\python\\python37\\lib\\site-packages (from spacy<4->fastai>=2.6->fastbook) (0.10.1)\n",
      "Requirement already satisfied: typer<0.8.0,>=0.3.0 in c:\\users\\anjali goel\\appdata\\local\\programs\\python\\python37\\lib\\site-packages (from spacy<4->fastai>=2.6->fastbook) (0.7.0)\n",
      "Requirement already satisfied: cymem<2.1.0,>=2.0.2 in c:\\users\\anjali goel\\appdata\\local\\programs\\python\\python37\\lib\\site-packages (from spacy<4->fastai>=2.6->fastbook) (2.0.7)\n",
      "Requirement already satisfied: spacy-loggers<2.0.0,>=1.0.0 in c:\\users\\anjali goel\\appdata\\local\\programs\\python\\python37\\lib\\site-packages (from spacy<4->fastai>=2.6->fastbook) (1.0.4)\n",
      "Requirement already satisfied: tqdm<5.0.0,>=4.38.0 in c:\\users\\anjali goel\\appdata\\local\\programs\\python\\python37\\lib\\site-packages (from spacy<4->fastai>=2.6->fastbook) (4.60.0)\n",
      "Requirement already satisfied: typing-extensions<4.5.0,>=3.7.4.1 in c:\\users\\anjali goel\\appdata\\local\\programs\\python\\python37\\lib\\site-packages (from spacy<4->fastai>=2.6->fastbook) (4.4.0)\n",
      "Requirement already satisfied: spacy-legacy<3.1.0,>=3.0.11 in c:\\users\\anjali goel\\appdata\\local\\programs\\python\\python37\\lib\\site-packages (from spacy<4->fastai>=2.6->fastbook) (3.0.12)\n",
      "Requirement already satisfied: zipp>=0.5 in c:\\users\\anjali goel\\appdata\\local\\programs\\python\\python37\\lib\\site-packages (from catalogue<2.1.0,>=2.0.6->spacy<4->fastai>=2.6->fastbook) (3.4.1)\n",
      "Requirement already satisfied: pyparsing>=2.0.2 in c:\\users\\anjali goel\\appdata\\local\\programs\\python\\python37\\lib\\site-packages (from packaging->fastbook) (2.4.7)\n",
      "Requirement already satisfied: chardet<5,>=3.0.2 in c:\\users\\anjali goel\\appdata\\local\\programs\\python\\python37\\lib\\site-packages (from requests->fastbook) (4.0.0)\n",
      "Requirement already satisfied: certifi>=2017.4.17 in c:\\users\\anjali goel\\appdata\\local\\programs\\python\\python37\\lib\\site-packages (from requests->fastbook) (2020.12.5)\n",
      "Requirement already satisfied: idna<3,>=2.5 in c:\\users\\anjali goel\\appdata\\local\\programs\\python\\python37\\lib\\site-packages (from requests->fastbook) (2.10)\n",
      "Requirement already satisfied: urllib3<1.27,>=1.21.1 in c:\\users\\anjali goel\\appdata\\local\\programs\\python\\python37\\lib\\site-packages (from requests->fastbook) (1.26.4)\n",
      "Requirement already satisfied: blis<0.8.0,>=0.7.8 in c:\\users\\anjali goel\\appdata\\local\\programs\\python\\python37\\lib\\site-packages (from thinc<8.2.0,>=8.1.8->spacy<4->fastai>=2.6->fastbook) (0.7.9)\n",
      "Requirement already satisfied: confection<1.0.0,>=0.0.1 in c:\\users\\anjali goel\\appdata\\local\\programs\\python\\python37\\lib\\site-packages (from thinc<8.2.0,>=8.1.8->spacy<4->fastai>=2.6->fastbook) (0.0.4)\n",
      "Requirement already satisfied: click<9.0.0,>=7.1.1 in c:\\users\\anjali goel\\appdata\\local\\programs\\python\\python37\\lib\\site-packages (from typer<0.8.0,>=0.3.0->spacy<4->fastai>=2.6->fastbook) (8.1.3)\n",
      "Requirement already satisfied: notebook>=4.4.1 in c:\\users\\anjali goel\\appdata\\local\\programs\\python\\python37\\lib\\site-packages (from widgetsnbextension~=3.5.0->ipywidgets<8->fastbook) (6.3.0)\n",
      "Requirement already satisfied: nbconvert in c:\\users\\anjali goel\\appdata\\local\\programs\\python\\python37\\lib\\site-packages (from notebook>=4.4.1->widgetsnbextension~=3.5.0->ipywidgets<8->fastbook) (6.0.7)\n",
      "Requirement already satisfied: pyzmq>=17 in c:\\users\\anjali goel\\appdata\\local\\programs\\python\\python37\\lib\\site-packages (from notebook>=4.4.1->widgetsnbextension~=3.5.0->ipywidgets<8->fastbook) (22.0.3)\n",
      "Requirement already satisfied: Send2Trash>=1.5.0 in c:\\users\\anjali goel\\appdata\\local\\programs\\python\\python37\\lib\\site-packages (from notebook>=4.4.1->widgetsnbextension~=3.5.0->ipywidgets<8->fastbook) (1.5.0)\n",
      "Requirement already satisfied: argon2-cffi in c:\\users\\anjali goel\\appdata\\local\\programs\\python\\python37\\lib\\site-packages (from notebook>=4.4.1->widgetsnbextension~=3.5.0->ipywidgets<8->fastbook) (20.1.0)\n"
     ]
    },
    {
     "name": "stderr",
     "output_type": "stream",
     "text": [
      "ERROR: pip's dependency resolver does not currently take into account all the packages that are installed. This behaviour is the source of the following dependency conflicts.\n",
      "streamlit 0.82.0 requires click<8.0,>=7.0, but you have click 8.1.3 which is incompatible.\n",
      "WARNING: You are using pip version 21.1.1; however, version 24.0 is available.\n",
      "You should consider upgrading via the 'c:\\users\\anjali goel\\appdata\\local\\programs\\python\\python37\\python.exe -m pip install --upgrade pip' command.\n"
     ]
    },
    {
     "name": "stdout",
     "output_type": "stream",
     "text": [
      "Requirement already satisfied: terminado>=0.8.3 in c:\\users\\anjali goel\\appdata\\local\\programs\\python\\python37\\lib\\site-packages (from notebook>=4.4.1->widgetsnbextension~=3.5.0->ipywidgets<8->fastbook) (0.9.4)\n",
      "Requirement already satisfied: prometheus-client in c:\\users\\anjali goel\\appdata\\local\\programs\\python\\python37\\lib\\site-packages (from notebook>=4.4.1->widgetsnbextension~=3.5.0->ipywidgets<8->fastbook) (0.10.1)\n",
      "Requirement already satisfied: python-dateutil>=2.1 in c:\\users\\anjali goel\\appdata\\local\\programs\\python\\python37\\lib\\site-packages (from jupyter-client->ipykernel>=4.5.1->ipywidgets<8->fastbook) (2.8.1)\n",
      "Requirement already satisfied: pywin32>=1.0 in c:\\users\\anjali goel\\appdata\\local\\programs\\python\\python37\\lib\\site-packages (from jupyter-core->nbformat>=4.2.0->ipywidgets<8->fastbook) (300)\n",
      "Requirement already satisfied: pywinpty>=0.5 in c:\\users\\anjali goel\\appdata\\local\\programs\\python\\python37\\lib\\site-packages (from terminado>=0.8.3->notebook>=4.4.1->widgetsnbextension~=3.5.0->ipywidgets<8->fastbook) (1.0.1)\n",
      "Requirement already satisfied: cffi>=1.0.0 in c:\\users\\anjali goel\\appdata\\local\\programs\\python\\python37\\lib\\site-packages (from argon2-cffi->notebook>=4.4.1->widgetsnbextension~=3.5.0->ipywidgets<8->fastbook) (1.13.2)\n",
      "Requirement already satisfied: pycparser in c:\\users\\anjali goel\\appdata\\local\\programs\\python\\python37\\lib\\site-packages (from cffi>=1.0.0->argon2-cffi->notebook>=4.4.1->widgetsnbextension~=3.5.0->ipywidgets<8->fastbook) (2.19)\n",
      "Collecting huggingface-hub<1.0.0,>=0.11.0\n",
      "  Downloading huggingface_hub-0.16.4-py3-none-any.whl (268 kB)\n",
      "Requirement already satisfied: dill<0.3.7,>=0.3.0 in c:\\users\\anjali goel\\appdata\\local\\programs\\python\\python37\\lib\\site-packages (from datasets->fastbook) (0.3.3)\n",
      "Collecting pyarrow>=8.0.0\n",
      "  Downloading pyarrow-12.0.1-cp37-cp37m-win_amd64.whl (21.5 MB)\n",
      "Collecting xxhash\n",
      "  Downloading xxhash-3.4.1-cp37-cp37m-win_amd64.whl (29 kB)\n",
      "Collecting multiprocess\n",
      "  Downloading multiprocess-0.70.15-py37-none-any.whl (116 kB)\n",
      "Collecting fsspec[http]>=2021.11.1\n",
      "  Downloading fsspec-2023.1.0-py3-none-any.whl (143 kB)\n",
      "Collecting tqdm<5.0.0,>=4.38.0\n",
      "  Downloading tqdm-4.66.2-py3-none-any.whl (78 kB)\n",
      "Requirement already satisfied: aiohttp in c:\\users\\anjali goel\\appdata\\local\\programs\\python\\python37\\lib\\site-packages (from datasets->fastbook) (3.8.4)\n",
      "Requirement already satisfied: multidict<7.0,>=4.5 in c:\\users\\anjali goel\\appdata\\local\\programs\\python\\python37\\lib\\site-packages (from aiohttp->datasets->fastbook) (6.0.4)\n",
      "Requirement already satisfied: aiosignal>=1.1.2 in c:\\users\\anjali goel\\appdata\\local\\programs\\python\\python37\\lib\\site-packages (from aiohttp->datasets->fastbook) (1.3.1)\n",
      "Requirement already satisfied: charset-normalizer<4.0,>=2.0 in c:\\users\\anjali goel\\appdata\\local\\programs\\python\\python37\\lib\\site-packages (from aiohttp->datasets->fastbook) (3.1.0)\n",
      "Requirement already satisfied: asynctest==0.13.0 in c:\\users\\anjali goel\\appdata\\local\\programs\\python\\python37\\lib\\site-packages (from aiohttp->datasets->fastbook) (0.13.0)\n",
      "Requirement already satisfied: frozenlist>=1.1.1 in c:\\users\\anjali goel\\appdata\\local\\programs\\python\\python37\\lib\\site-packages (from aiohttp->datasets->fastbook) (1.3.3)\n",
      "Requirement already satisfied: async-timeout<5.0,>=4.0.0a3 in c:\\users\\anjali goel\\appdata\\local\\programs\\python\\python37\\lib\\site-packages (from aiohttp->datasets->fastbook) (4.0.2)\n",
      "Requirement already satisfied: yarl<2.0,>=1.0 in c:\\users\\anjali goel\\appdata\\local\\programs\\python\\python37\\lib\\site-packages (from aiohttp->datasets->fastbook) (1.8.2)\n",
      "Collecting filelock\n",
      "  Downloading filelock-3.12.2-py3-none-any.whl (10 kB)\n",
      "Requirement already satisfied: MarkupSafe>=0.23 in c:\\users\\anjali goel\\appdata\\local\\programs\\python\\python37\\lib\\site-packages (from jinja2->spacy<4->fastai>=2.6->fastbook) (1.1.1)\n",
      "Requirement already satisfied: cycler>=0.10 in c:\\users\\anjali goel\\appdata\\local\\programs\\python\\python37\\lib\\site-packages (from matplotlib->fastai>=2.6->fastbook) (0.10.0)\n",
      "Requirement already satisfied: kiwisolver>=1.0.1 in c:\\users\\anjali goel\\appdata\\local\\programs\\python\\python37\\lib\\site-packages (from matplotlib->fastai>=2.6->fastbook) (1.3.1)\n",
      "Collecting multiprocess\n",
      "  Downloading multiprocess-0.70.14-py37-none-any.whl (115 kB)\n",
      "Collecting dill<0.3.7,>=0.3.0\n",
      "  Downloading dill-0.3.6-py3-none-any.whl (110 kB)\n",
      "Requirement already satisfied: testpath in c:\\users\\anjali goel\\appdata\\local\\programs\\python\\python37\\lib\\site-packages (from nbconvert->notebook>=4.4.1->widgetsnbextension~=3.5.0->ipywidgets<8->fastbook) (0.4.4)\n",
      "Requirement already satisfied: nbclient<0.6.0,>=0.5.0 in c:\\users\\anjali goel\\appdata\\local\\programs\\python\\python37\\lib\\site-packages (from nbconvert->notebook>=4.4.1->widgetsnbextension~=3.5.0->ipywidgets<8->fastbook) (0.5.3)\n",
      "Requirement already satisfied: bleach in c:\\users\\anjali goel\\appdata\\local\\programs\\python\\python37\\lib\\site-packages (from nbconvert->notebook>=4.4.1->widgetsnbextension~=3.5.0->ipywidgets<8->fastbook) (3.3.0)\n",
      "Requirement already satisfied: defusedxml in c:\\users\\anjali goel\\appdata\\local\\programs\\python\\python37\\lib\\site-packages (from nbconvert->notebook>=4.4.1->widgetsnbextension~=3.5.0->ipywidgets<8->fastbook) (0.7.1)\n",
      "Requirement already satisfied: entrypoints>=0.2.2 in c:\\users\\anjali goel\\appdata\\local\\programs\\python\\python37\\lib\\site-packages (from nbconvert->notebook>=4.4.1->widgetsnbextension~=3.5.0->ipywidgets<8->fastbook) (0.3)\n",
      "Requirement already satisfied: jupyterlab-pygments in c:\\users\\anjali goel\\appdata\\local\\programs\\python\\python37\\lib\\site-packages (from nbconvert->notebook>=4.4.1->widgetsnbextension~=3.5.0->ipywidgets<8->fastbook) (0.1.2)\n",
      "Requirement already satisfied: pandocfilters>=1.4.1 in c:\\users\\anjali goel\\appdata\\local\\programs\\python\\python37\\lib\\site-packages (from nbconvert->notebook>=4.4.1->widgetsnbextension~=3.5.0->ipywidgets<8->fastbook) (1.4.3)\n",
      "Requirement already satisfied: mistune<2,>=0.8.1 in c:\\users\\anjali goel\\appdata\\local\\programs\\python\\python37\\lib\\site-packages (from nbconvert->notebook>=4.4.1->widgetsnbextension~=3.5.0->ipywidgets<8->fastbook) (0.8.4)\n",
      "Requirement already satisfied: async-generator in c:\\users\\anjali goel\\appdata\\local\\programs\\python\\python37\\lib\\site-packages (from nbclient<0.6.0,>=0.5.0->nbconvert->notebook>=4.4.1->widgetsnbextension~=3.5.0->ipywidgets<8->fastbook) (1.10)\n",
      "Requirement already satisfied: nest-asyncio in c:\\users\\anjali goel\\appdata\\local\\programs\\python\\python37\\lib\\site-packages (from nbclient<0.6.0,>=0.5.0->nbconvert->notebook>=4.4.1->widgetsnbextension~=3.5.0->ipywidgets<8->fastbook) (1.5.1)\n",
      "Requirement already satisfied: webencodings in c:\\users\\anjali goel\\appdata\\local\\programs\\python\\python37\\lib\\site-packages (from bleach->nbconvert->notebook>=4.4.1->widgetsnbextension~=3.5.0->ipywidgets<8->fastbook) (0.5.1)\n"
     ]
    },
    {
     "name": "stdout",
     "output_type": "stream",
     "text": [
      "Requirement already satisfied: pytz>=2017.2 in c:\\users\\anjali goel\\appdata\\local\\programs\\python\\python37\\lib\\site-packages (from pandas->fastbook) (2021.1)\n",
      "Requirement already satisfied: joblib>=0.11 in c:\\users\\anjali goel\\appdata\\local\\programs\\python\\python37\\lib\\site-packages (from scikit-learn->fastai>=2.6->fastbook) (1.0.1)\n",
      "Requirement already satisfied: threadpoolctl>=2.0.0 in c:\\users\\anjali goel\\appdata\\local\\programs\\python\\python37\\lib\\site-packages (from scikit-learn->fastai>=2.6->fastbook) (2.1.0)\n",
      "Requirement already satisfied: regex!=2019.12.17 in c:\\users\\anjali goel\\appdata\\local\\programs\\python\\python37\\lib\\site-packages (from transformers->fastbook) (2021.4.4)\n",
      "Collecting tokenizers!=0.11.3,<0.14,>=0.11.1\n",
      "  Downloading tokenizers-0.13.3-cp37-cp37m-win_amd64.whl (3.5 MB)\n",
      "Collecting safetensors>=0.3.1\n",
      "  Downloading safetensors-0.4.2-cp37-none-win_amd64.whl (268 kB)\n",
      "Installing collected packages: tqdm, fsspec, filelock, fastprogress, fastcore, dill, xxhash, tokenizers, safetensors, pyarrow, multiprocess, huggingface-hub, fastdownload, transformers, sentencepiece, graphviz, fastai, datasets, fastbook\n",
      "  Attempting uninstall: tqdm\n",
      "    Found existing installation: tqdm 4.60.0\n",
      "    Uninstalling tqdm-4.60.0:\n",
      "      Successfully uninstalled tqdm-4.60.0\n",
      "  Attempting uninstall: dill\n",
      "    Found existing installation: dill 0.3.3\n",
      "    Uninstalling dill-0.3.3:\n",
      "      Successfully uninstalled dill-0.3.3\n",
      "  Attempting uninstall: pyarrow\n",
      "    Found existing installation: pyarrow 4.0.0\n",
      "    Uninstalling pyarrow-4.0.0:\n",
      "      Successfully uninstalled pyarrow-4.0.0\n",
      "Successfully installed datasets-2.13.2 dill-0.3.6 fastai-2.7.12 fastbook-0.0.29 fastcore-1.5.29 fastdownload-0.0.7 fastprogress-1.0.3 filelock-3.12.2 fsspec-2023.1.0 graphviz-0.20.1 huggingface-hub-0.16.4 multiprocess-0.70.14 pyarrow-12.0.1 safetensors-0.4.2 sentencepiece-0.1.99 tokenizers-0.13.3 tqdm-4.66.2 transformers-4.30.2 xxhash-3.4.1\n"
     ]
    }
   ],
   "source": [
    "! pip install fastbook"
   ]
  },
  {
   "cell_type": "code",
   "execution_count": 2,
   "metadata": {},
   "outputs": [],
   "source": [
    "import fastbook\n",
    "\n",
    "fastbook.setup_book()"
   ]
  },
  {
   "cell_type": "code",
   "execution_count": 3,
   "metadata": {},
   "outputs": [],
   "source": [
    "from fastai.vision.all import *\n",
    "from fastbook import *\n",
    "\n",
    "matplotlib.rc('image', cmap = 'Greys')"
   ]
  },
  {
   "cell_type": "code",
   "execution_count": 4,
   "metadata": {},
   "outputs": [
    {
     "data": {
      "text/html": [
       "\n",
       "<style>\n",
       "    /* Turns off some styling */\n",
       "    progress {\n",
       "        /* gets rid of default border in Firefox and Opera. */\n",
       "        border: none;\n",
       "        /* Needs to be in here for Safari polyfill so background images work as expected. */\n",
       "        background-size: auto;\n",
       "    }\n",
       "    progress:not([value]), progress:not([value])::-webkit-progress-bar {\n",
       "        background: repeating-linear-gradient(45deg, #7e7e7e, #7e7e7e 10px, #5c5c5c 10px, #5c5c5c 20px);\n",
       "    }\n",
       "    .progress-bar-interrupted, .progress-bar-interrupted::-webkit-progress-bar {\n",
       "        background: #F44336;\n",
       "    }\n",
       "</style>\n"
      ],
      "text/plain": [
       "<IPython.core.display.HTML object>"
      ]
     },
     "metadata": {},
     "output_type": "display_data"
    },
    {
     "data": {
      "text/html": [
       "\n",
       "    <div>\n",
       "      <progress value='3219456' class='' max='3214948' style='width:300px; height:20px; vertical-align: middle;'></progress>\n",
       "      100.14% [3219456/3214948 00:02&lt;00:00]\n",
       "    </div>\n",
       "    "
      ],
      "text/plain": [
       "<IPython.core.display.HTML object>"
      ]
     },
     "metadata": {},
     "output_type": "display_data"
    }
   ],
   "source": [
    "path = untar_data(URLs.MNIST_SAMPLE)"
   ]
  },
  {
   "cell_type": "code",
   "execution_count": 5,
   "metadata": {},
   "outputs": [],
   "source": [
    "Path.BASE_PATH = path"
   ]
  },
  {
   "cell_type": "code",
   "execution_count": 6,
   "metadata": {},
   "outputs": [
    {
     "data": {
      "text/plain": [
       "(#3) [Path('labels.csv'),Path('train'),Path('valid')]"
      ]
     },
     "execution_count": 6,
     "metadata": {},
     "output_type": "execute_result"
    }
   ],
   "source": [
    "path.ls()"
   ]
  },
  {
   "cell_type": "code",
   "execution_count": 7,
   "metadata": {},
   "outputs": [
    {
     "data": {
      "text/plain": [
       "(#2) [Path('train/3'),Path('train/7')]"
      ]
     },
     "execution_count": 7,
     "metadata": {},
     "output_type": "execute_result"
    }
   ],
   "source": [
    "(path/'train').ls()"
   ]
  },
  {
   "cell_type": "code",
   "execution_count": 9,
   "metadata": {},
   "outputs": [],
   "source": [
    "threes = (path/'train/3').ls().sorted()\n",
    "sevens = (path/'train/7').ls().sorted()"
   ]
  },
  {
   "cell_type": "code",
   "execution_count": 11,
   "metadata": {},
   "outputs": [
    {
     "data": {
      "text/plain": [
       "(6131, 6265)"
      ]
     },
     "execution_count": 11,
     "metadata": {},
     "output_type": "execute_result"
    }
   ],
   "source": [
    "three_tensors = [tensor(Image.open(o)) for o in threes]\n",
    "seven_tensors = [tensor(Image.open(o)) for o in sevens]\n",
    "\n",
    "len(three_tensors), len(seven_tensors)"
   ]
  },
  {
   "cell_type": "code",
   "execution_count": 13,
   "metadata": {},
   "outputs": [],
   "source": [
    "stacked_threes = torch.stack(three_tensors) / 255\n",
    "stacked_sevens = torch.stack(seven_tensors) / 255"
   ]
  },
  {
   "cell_type": "code",
   "execution_count": 17,
   "metadata": {},
   "outputs": [
    {
     "data": {
      "text/plain": [
       "(torch.Size([1010, 28, 28]), torch.Size([1028, 28, 28]))"
      ]
     },
     "execution_count": 17,
     "metadata": {},
     "output_type": "execute_result"
    }
   ],
   "source": [
    "valid_3 = torch.stack([tensor(Image.open(o)) for o in (path/'valid/3').ls()]) / 255\n",
    "# valid_3 = valid_3.float() / 255\n",
    "valid_7 = torch.stack([tensor(Image.open(o)) for o in (path/'valid/7').ls()]) / 255\n",
    "# valid_7 = valid_7.float() / 255\n",
    "\n",
    "valid_3.shape, valid_7.shape"
   ]
  },
  {
   "cell_type": "code",
   "execution_count": 25,
   "metadata": {},
   "outputs": [
    {
     "data": {
      "text/plain": [
       "torch.Size([12396, 784])"
      ]
     },
     "execution_count": 25,
     "metadata": {},
     "output_type": "execute_result"
    }
   ],
   "source": [
    "train_x = torch.cat([stacked_threes, stacked_sevens]).view(-1, 28*28)\n",
    "train_x.shape"
   ]
  },
  {
   "cell_type": "code",
   "execution_count": 24,
   "metadata": {},
   "outputs": [
    {
     "data": {
      "text/plain": [
       "torch.Size([12396, 1])"
      ]
     },
     "execution_count": 24,
     "metadata": {},
     "output_type": "execute_result"
    }
   ],
   "source": [
    "train_y = tensor([1] * len(threes) + [0] * len(sevens)).unsqueeze(1)\n",
    "train_y.shape"
   ]
  },
  {
   "cell_type": "code",
   "execution_count": 28,
   "metadata": {},
   "outputs": [],
   "source": [
    "dset = list(zip(train_x, train_y))"
   ]
  },
  {
   "cell_type": "code",
   "execution_count": 30,
   "metadata": {},
   "outputs": [],
   "source": [
    "valid_x = torch.cat([valid_3, valid_7]).view(-1, 28*28)\n",
    "valid_y = tensor([1] * len(valid_3) + [0] * len(valid_7)).unsqueeze(1)\n",
    "valid_dset = list(zip(valid_x, valid_y))"
   ]
  },
  {
   "cell_type": "code",
   "execution_count": 31,
   "metadata": {},
   "outputs": [],
   "source": [
    "def init_params(size, std = 1.0):\n",
    "    return (torch.randn(size) * std).requires_grad_()"
   ]
  },
  {
   "cell_type": "code",
   "execution_count": 74,
   "metadata": {},
   "outputs": [
    {
     "data": {
      "text/plain": [
       "torch.Size([784, 1])"
      ]
     },
     "execution_count": 74,
     "metadata": {},
     "output_type": "execute_result"
    }
   ],
   "source": [
    "weights = init_params((28*28, 1))\n",
    "weights.shape"
   ]
  },
  {
   "cell_type": "code",
   "execution_count": 76,
   "metadata": {},
   "outputs": [
    {
     "data": {
      "text/plain": [
       "1"
      ]
     },
     "execution_count": 76,
     "metadata": {},
     "output_type": "execute_result"
    }
   ],
   "source": [
    "bias = init_params(1)\n",
    "bias.ndim"
   ]
  },
  {
   "cell_type": "code",
   "execution_count": 68,
   "metadata": {},
   "outputs": [],
   "source": [
    "def linear1(xb):\n",
    "    return (xb @ weights) + bias"
   ]
  },
  {
   "cell_type": "code",
   "execution_count": 41,
   "metadata": {},
   "outputs": [
    {
     "data": {
      "text/plain": [
       "tensor([[27.1169],\n",
       "        [25.8012],\n",
       "        [29.9281],\n",
       "        ...,\n",
       "        [ 0.9456],\n",
       "        [12.7370],\n",
       "        [-1.5843]], grad_fn=<AddBackward0>)"
      ]
     },
     "execution_count": 41,
     "metadata": {},
     "output_type": "execute_result"
    }
   ],
   "source": [
    "preds = linear1(train_x)\n",
    "preds"
   ]
  },
  {
   "cell_type": "code",
   "execution_count": 46,
   "metadata": {},
   "outputs": [
    {
     "data": {
      "text/plain": [
       "[(tensor([12.7370], grad_fn=<UnbindBackward0>), tensor([0])),\n",
       " (tensor([-1.5843], grad_fn=<UnbindBackward0>), tensor([0]))]"
      ]
     },
     "execution_count": 46,
     "metadata": {},
     "output_type": "execute_result"
    }
   ],
   "source": [
    "list(zip(preds, train_y))[-2:]"
   ]
  },
  {
   "cell_type": "code",
   "execution_count": 43,
   "metadata": {},
   "outputs": [
    {
     "data": {
      "text/plain": [
       "tensor([[ True],\n",
       "        [ True],\n",
       "        [ True],\n",
       "        ...,\n",
       "        [False],\n",
       "        [False],\n",
       "        [ True]])"
      ]
     },
     "execution_count": 43,
     "metadata": {},
     "output_type": "execute_result"
    }
   ],
   "source": [
    "# this is not a 3 digit classifier but both 3 and 7 digit classifier where corrects will be false only when prediction gives 3 but actual answer is 7 or vice-versa.\n",
    "corrects = (preds > 0.0).float() == train_y\n",
    "corrects"
   ]
  },
  {
   "cell_type": "code",
   "execution_count": 48,
   "metadata": {},
   "outputs": [
    {
     "data": {
      "text/plain": [
       "0.5484833717346191"
      ]
     },
     "execution_count": 48,
     "metadata": {},
     "output_type": "execute_result"
    }
   ],
   "source": [
    "# .item() -> number returns the value of tensor as a standard python number\n",
    "corrects.float().mean().item()"
   ]
  },
  {
   "cell_type": "code",
   "execution_count": 61,
   "metadata": {},
   "outputs": [],
   "source": [
    "dl = DataLoader(dset, batch_size=256)\n",
    "valid_dl = DataLoader(valid_dset, batch_size=256)"
   ]
  },
  {
   "cell_type": "code",
   "execution_count": 50,
   "metadata": {},
   "outputs": [],
   "source": [
    "# in loss, we checked for distance each prediction has from 1 in case of 3 digit and from 0 in case of 7 digit.\n",
    "def mnist_loss(predictions, targets):\n",
    "    predictions = predictions.sigmoid()\n",
    "    return torch.where(targets == 1, 1 - predictions, predictions).mean()"
   ]
  },
  {
   "cell_type": "code",
   "execution_count": 62,
   "metadata": {},
   "outputs": [],
   "source": [
    "def calc_grad(xb, yb, model):\n",
    "    preds = model(xb)\n",
    "    loss = mnist_loss(preds, yb)\n",
    "    loss.backward()"
   ]
  },
  {
   "cell_type": "code",
   "execution_count": 63,
   "metadata": {},
   "outputs": [],
   "source": [
    "def train_epoch(model, lr, params):\n",
    "    for xb, yb in dl:\n",
    "        calc_grad(xb, yb, model)\n",
    "        for p in params:\n",
    "            p.data -= p.grad * lr\n",
    "            p.grad.zero_()"
   ]
  },
  {
   "cell_type": "code",
   "execution_count": 64,
   "metadata": {},
   "outputs": [],
   "source": [
    "def batch_accuracy(xb, yb):\n",
    "    preds = xb.sigmoid()\n",
    "    correct = (preds > 0.5) == yb\n",
    "    return correct.float().mean()"
   ]
  },
  {
   "cell_type": "code",
   "execution_count": 66,
   "metadata": {},
   "outputs": [],
   "source": [
    "def validate_epoch(model):\n",
    "    accs = [batch_accuracy(model(xb), yb) for xb, yb in valid_dl]\n",
    "    return round(torch.stack(accs).mean().item(), 4)"
   ]
  },
  {
   "cell_type": "code",
   "execution_count": 67,
   "metadata": {},
   "outputs": [
    {
     "name": "stdout",
     "output_type": "stream",
     "text": [
      "weights mean is 0.07497538626194, bias is tensor([0.3737], requires_grad=True)\n",
      "weights mean is 0.07505727559328079, bias is tensor([0.3743], requires_grad=True)\n",
      "weights mean is 0.0751718282699585, bias is tensor([0.3756], requires_grad=True)\n",
      "weights mean is 0.07548732310533524, bias is tensor([0.3784], requires_grad=True)\n",
      "weights mean is 0.07563043385744095, bias is tensor([0.3795], requires_grad=True)\n",
      "weights mean is 0.07564927637577057, bias is tensor([0.3797], requires_grad=True)\n",
      "weights mean is 0.07570204138755798, bias is tensor([0.3805], requires_grad=True)\n",
      "weights mean is 0.07571951299905777, bias is tensor([0.3807], requires_grad=True)\n",
      "weights mean is 0.07589361071586609, bias is tensor([0.3825], requires_grad=True)\n",
      "weights mean is 0.07613144814968109, bias is tensor([0.3843], requires_grad=True)\n",
      "weights mean is 0.07619117945432663, bias is tensor([0.3848], requires_grad=True)\n",
      "weights mean is 0.07633010298013687, bias is tensor([0.3864], requires_grad=True)\n",
      "weights mean is 0.07635723799467087, bias is tensor([0.3867], requires_grad=True)\n",
      "weights mean is 0.0764775350689888, bias is tensor([0.3877], requires_grad=True)\n",
      "weights mean is 0.07672283798456192, bias is tensor([0.3897], requires_grad=True)\n",
      "weights mean is 0.07681437581777573, bias is tensor([0.3905], requires_grad=True)\n",
      "weights mean is 0.07692530006170273, bias is tensor([0.3914], requires_grad=True)\n",
      "weights mean is 0.07692717760801315, bias is tensor([0.3914], requires_grad=True)\n",
      "weights mean is 0.0769658237695694, bias is tensor([0.3919], requires_grad=True)\n",
      "weights mean is 0.07710513472557068, bias is tensor([0.3930], requires_grad=True)\n",
      "weights mean is 0.07711561024188995, bias is tensor([0.3931], requires_grad=True)\n",
      "weights mean is 0.07721598446369171, bias is tensor([0.3939], requires_grad=True)\n",
      "weights mean is 0.07721858471632004, bias is tensor([0.3939], requires_grad=True)\n",
      "weights mean is 0.07730650156736374, bias is tensor([0.3948], requires_grad=True)\n",
      "weights mean is 0.07696102559566498, bias is tensor([0.3914], requires_grad=True)\n",
      "weights mean is 0.07395176589488983, bias is tensor([0.3643], requires_grad=True)\n",
      "weights mean is 0.06965726613998413, bias is tensor([0.3299], requires_grad=True)\n",
      "weights mean is 0.0635390505194664, bias is tensor([0.2736], requires_grad=True)\n",
      "weights mean is 0.056550100445747375, bias is tensor([0.2097], requires_grad=True)\n",
      "weights mean is 0.04909871518611908, bias is tensor([0.1466], requires_grad=True)\n",
      "weights mean is 0.043141331523656845, bias is tensor([0.0978], requires_grad=True)\n",
      "weights mean is 0.03871002048254013, bias is tensor([0.0577], requires_grad=True)\n",
      "weights mean is 0.03371061012148857, bias is tensor([0.0080], requires_grad=True)\n",
      "weights mean is 0.030491868034005165, bias is tensor([-0.0214], requires_grad=True)\n",
      "weights mean is 0.027911169454455376, bias is tensor([-0.0480], requires_grad=True)\n",
      "weights mean is 0.02625645510852337, bias is tensor([-0.0653], requires_grad=True)\n",
      "weights mean is 0.02425530180335045, bias is tensor([-0.0842], requires_grad=True)\n",
      "weights mean is 0.021677318960428238, bias is tensor([-0.1086], requires_grad=True)\n",
      "weights mean is 0.0201805979013443, bias is tensor([-0.1232], requires_grad=True)\n",
      "weights mean is 0.01848689466714859, bias is tensor([-0.1391], requires_grad=True)\n",
      "weights mean is 0.016922036185860634, bias is tensor([-0.1540], requires_grad=True)\n",
      "weights mean is 0.015872014686465263, bias is tensor([-0.1649], requires_grad=True)\n",
      "weights mean is 0.01432006899267435, bias is tensor([-0.1783], requires_grad=True)\n",
      "weights mean is 0.012772229500114918, bias is tensor([-0.1931], requires_grad=True)\n",
      "weights mean is 0.011702228337526321, bias is tensor([-0.2032], requires_grad=True)\n",
      "weights mean is 0.010153913870453835, bias is tensor([-0.2188], requires_grad=True)\n",
      "weights mean is 0.009621563367545605, bias is tensor([-0.2237], requires_grad=True)\n",
      "weights mean is 0.009109440259635448, bias is tensor([-0.2288], requires_grad=True)\n",
      "weights mean is 0.00849791057407856, bias is tensor([-0.2351], requires_grad=True)\n",
      "weights mean is 0.00800224207341671, bias is tensor([-0.2410], requires_grad=True)\n",
      "weights mean is 0.00800224207341671, bias is tensor([-0.2410], requires_grad=True)\n",
      "weights mean is 0.00800224207341671, bias is tensor([-0.2410], requires_grad=True)\n",
      "weights mean is 0.00800224207341671, bias is tensor([-0.2410], requires_grad=True)\n",
      "weights mean is 0.00800224207341671, bias is tensor([-0.2410], requires_grad=True)\n",
      "weights mean is 0.00800224207341671, bias is tensor([-0.2410], requires_grad=True)\n",
      "weights mean is 0.00800224207341671, bias is tensor([-0.2410], requires_grad=True)\n",
      "weights mean is 0.00800224207341671, bias is tensor([-0.2410], requires_grad=True)\n"
     ]
    },
    {
     "data": {
      "text/plain": [
       "0.8642"
      ]
     },
     "execution_count": 67,
     "metadata": {},
     "output_type": "execute_result"
    }
   ],
   "source": [
    "# training for 1 epoch\n",
    "lr = 1.\n",
    "params = weights, bias\n",
    "train_epoch(linear1, lr, params)\n",
    "validate_epoch(linear1)"
   ]
  },
  {
   "cell_type": "code",
   "execution_count": 70,
   "metadata": {},
   "outputs": [
    {
     "name": "stdout",
     "output_type": "stream",
     "text": [
      "weights mean is 0.034158021211624146, bias is tensor([-0.6060], requires_grad=True)\n",
      "0.9755 \n",
      "weights mean is 0.03465525060892105, bias is tensor([-0.6178], requires_grad=True)\n",
      "0.9755 \n",
      "weights mean is 0.03513159230351448, bias is tensor([-0.6294], requires_grad=True)\n",
      "0.976 \n",
      "weights mean is 0.03558725863695145, bias is tensor([-0.6410], requires_grad=True)\n",
      "0.9755 \n",
      "weights mean is 0.03602146357297897, bias is tensor([-0.6524], requires_grad=True)\n",
      "0.9755 \n",
      "weights mean is 0.03643304482102394, bias is tensor([-0.6638], requires_grad=True)\n",
      "0.9755 \n",
      "weights mean is 0.03682136535644531, bias is tensor([-0.6752], requires_grad=True)\n",
      "0.9755 \n",
      "weights mean is 0.03718718886375427, bias is tensor([-0.6866], requires_grad=True)\n",
      "0.9755 \n",
      "weights mean is 0.03753310814499855, bias is tensor([-0.6980], requires_grad=True)\n",
      "0.9755 \n",
      "weights mean is 0.03786340355873108, bias is tensor([-0.7094], requires_grad=True)\n",
      "0.9755 \n",
      "weights mean is 0.03818289935588837, bias is tensor([-0.7209], requires_grad=True)\n",
      "0.9755 \n",
      "weights mean is 0.03849560767412186, bias is tensor([-0.7324], requires_grad=True)\n",
      "0.9755 \n",
      "weights mean is 0.038803908973932266, bias is tensor([-0.7440], requires_grad=True)\n",
      "0.976 \n",
      "weights mean is 0.0391085147857666, bias is tensor([-0.7555], requires_grad=True)\n",
      "0.976 \n",
      "weights mean is 0.039409030228853226, bias is tensor([-0.7671], requires_grad=True)\n",
      "0.977 \n",
      "weights mean is 0.039704687893390656, bias is tensor([-0.7787], requires_grad=True)\n",
      "0.977 \n",
      "weights mean is 0.03999469801783562, bias is tensor([-0.7903], requires_grad=True)\n",
      "0.977 \n",
      "weights mean is 0.04027848690748215, bias is tensor([-0.8018], requires_grad=True)\n",
      "0.9775 \n",
      "weights mean is 0.040555715560913086, bias is tensor([-0.8134], requires_grad=True)\n",
      "0.9775 \n",
      "weights mean is 0.04082629084587097, bias is tensor([-0.8249], requires_grad=True)\n",
      "0.9775 \n"
     ]
    }
   ],
   "source": [
    "for i in range(20):\n",
    "    print(f'weights mean is {params[0].float().mean()}, bias is {params[1]}')\n",
    "    train_epoch(linear1, lr, params)\n",
    "    print(validate_epoch(linear1), end=' ')\n",
    "    print()"
   ]
  },
  {
   "cell_type": "code",
   "execution_count": 71,
   "metadata": {},
   "outputs": [],
   "source": [
    "# creating optimizer\n",
    "# nn.Linear does same as init_params that initialized the parameters(weights + bias) and linear(performs xb@w + b)\n",
    "linear_model = nn.Linear(28*28, 1)"
   ]
  },
  {
   "cell_type": "code",
   "execution_count": 77,
   "metadata": {},
   "outputs": [
    {
     "data": {
      "text/plain": [
       "(torch.Size([1, 784]), torch.Size([1]))"
      ]
     },
     "execution_count": 77,
     "metadata": {},
     "output_type": "execute_result"
    }
   ],
   "source": [
    "w, b = linear_model.parameters()\n",
    "w.shape, b.shape"
   ]
  },
  {
   "cell_type": "code",
   "execution_count": null,
   "metadata": {},
   "outputs": [],
   "source": []
  }
 ],
 "metadata": {
  "kernelspec": {
   "display_name": "venv",
   "language": "python",
   "name": "venv"
  },
  "language_info": {
   "codemirror_mode": {
    "name": "ipython",
    "version": 3
   },
   "file_extension": ".py",
   "mimetype": "text/x-python",
   "name": "python",
   "nbconvert_exporter": "python",
   "pygments_lexer": "ipython3",
   "version": "3.7.5"
  }
 },
 "nbformat": 4,
 "nbformat_minor": 2
}
